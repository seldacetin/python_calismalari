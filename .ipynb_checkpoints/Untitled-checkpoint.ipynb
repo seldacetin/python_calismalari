{
 "cells": [
  {
   "cell_type": "code",
   "execution_count": null,
   "id": "79b53957",
   "metadata": {},
   "outputs": [],
   "source": [
    "import os\n",
    "import cv2\n",
    "import numpy as np\n",
    "import pandas as pd\n",
    "from tensorflow.keras.utils import to_categorical\n",
    "from sklearn.model_selection import train_test_split"
   ]
  },
  {
   "cell_type": "code",
   "execution_count": null,
   "id": "1a032f62",
   "metadata": {},
   "outputs": [],
   "source": [
    "def create_train_data(train_data_dir, num_classes,\n",
    "                      resize_col=64, resize_row=64,\n",
    "                      test_size=0.2, random_state=1):\n",
    "\n",
    "    # Resim matrislerinin tutulacağı dizi.\n",
    "    data = []\n",
    "    # Resim sınıflarının tutulacağı dizi.\n",
    "    labels = []\n",
    "    # Klasör içerisinde bulunan her bir sınıf klasörünün dosya yolu.\n",
    "    train_files = os.listdir(train_data_dir)\n",
    "\n",
    "    # Her bir dosya yolunu dolaşacak döngü\n",
    "    for classes in train_files:\n",
    "        \n",
    "        # Dosya yolunun adı aynı zamanda sınıf numaramız.\n",
    "        classname = str(classes)\n",
    "        path = os.path.join(train_data_dir, classname)\n",
    "        # Dosyadan tüm resimlerin yolunu alıyoruz.\n",
    "        images = os.listdir(path)\n",
    "\n",
    "        #Tüm resimleri dolaşacak döngü\n",
    "        for image in images:\n",
    "            \n",
    "            image_path = os.path.join(path, image)\n",
    "            # Resim okunarak bir diziye aktarılıyor\n",
    "            image_array = cv2.imread(image_path)\n",
    "            # Resim yeniden boyutlandırılıyor.\n",
    "            image_array = cv2.resize(image_array, (resize_row, resize_col))\n",
    "            # Verilerin ilgili dizilere eklenmesi\n",
    "            data.append(image_array)\n",
    "            labels.append(classname)\n",
    "  \n",
    "        # Dizilerin numpy dizilerine dönüştürülmesi\n",
    "        data = np.array(data)\n",
    "        labels = np.array(labels)\n",
    "    \n",
    "    # Resim verilerinin train ve validation verisi olarak\n",
    "    # bölünmesi işlemi\n",
    "    x_train, x_val, y_train, y_val = train_test_split(\n",
    "        data, labels, test_size=test_size, random_state=random_state)\n",
    "    # Sınıfların kategorik matris hale getirilmesi\n",
    "    y_train = to_categorical(y_train, num_classes)\n",
    "    y_val = to_categorical(y_val, num_classes)\n",
    "\n",
    "    return x_train, y_train, x_val, y_val"
   ]
  }
 ],
 "metadata": {
  "kernelspec": {
   "display_name": "Python 3 (ipykernel)",
   "language": "python",
   "name": "python3"
  },
  "language_info": {
   "codemirror_mode": {
    "name": "ipython",
    "version": 3
   },
   "file_extension": ".py",
   "mimetype": "text/x-python",
   "name": "python",
   "nbconvert_exporter": "python",
   "pygments_lexer": "ipython3",
   "version": "3.9.7"
  }
 },
 "nbformat": 4,
 "nbformat_minor": 5
}
