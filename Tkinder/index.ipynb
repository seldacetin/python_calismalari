{
 "cells": [
  {
   "cell_type": "code",
   "execution_count": 100,
   "metadata": {},
   "outputs": [],
   "source": [
    "import tkinter as tk\n",
    "from tkinter import *"
   ]
  },
  {
   "cell_type": "code",
   "execution_count": 155,
   "metadata": {},
   "outputs": [],
   "source": [
    "home = Tk()\n",
    "\n",
    "canvas = Canvas(home, height=800, width=1500)\n",
    "canvas.pack()\n",
    "\n",
    "frame_top = Frame(home, bg=\"#c2c2d6\")\n",
    "frame_top.place(relx=0.02, rely=0.03, relwidth=0.96, relheight=0.08)\n",
    "\n",
    "frame_bottom = Frame(home, bg=\"#c2c2d6\")\n",
    "frame_bottom.place(relx=0.02, rely=0.12, relwidth=0.96, relheight=0.85)\n",
    "\n",
    "frame_in = Frame(home, bg=\"#b3b3cc\")\n",
    "frame_in.place(relx=0.02, rely=0.35,relwidth=0.96, relheight= 0.62)\n",
    "\n",
    "title = Label(frame_top, bg=\"#c2c2d6\", text = \"Exam Application Form\", font=\"Verdana 20 italic\")\n",
    "title.pack(pady=20)\n",
    "\n",
    "Label(frame_bottom, bg=\"#c2c2d6\", text=\"First Name :\", font=\"Helvetica 11 \").pack(padx=30, pady=10, anchor=NW)\n",
    "textbox1 = Text(frame_bottom, width=20, height=1)\n",
    "textbox1.tag_configure('style', foreground='#f0f0f5', font=('Helvetica', 11))\n",
    "textbox1.place(relx=0.08, rely=0.018)\n",
    "\n",
    "Label(frame_bottom, bg=\"#c2c2d6\", text=\"Last Name :\", font=\"Helvetica 11 \").pack(padx=30, pady=15, anchor=NW)\n",
    "textbox2 = Text(frame_bottom, width=20, height=1)\n",
    "textbox2.tag_configure('style', foreground='#f0f0f5', font=('Helvetica', 11))\n",
    "textbox2.place(relx=0.08, rely=0.085)\n",
    "\n",
    "Label(frame_bottom, bg=\"#c2c2d6\", text=\"Number     :\", font=\"Helvetica 11 \").pack(padx=30, pady=18, anchor=NW)\n",
    "textbox3 = Text(frame_bottom, width=20, height=1)\n",
    "textbox3.tag_configure('style', foreground='#f0f0f5', font=('Helvetica', 11))\n",
    "textbox3.place(relx=0.08, rely=0.17)\n",
    "\n",
    "var = IntVar()\n",
    "\n",
    "r1 = Radiobutton(frame_bottom, text = \"Associate Degree\", variable = var, value = 1, bg = \"#c2c2d6\", font = \"Helvetica 11 \")\n",
    "r1.place(relx=0.5, rely=0.018 )\n",
    "\n",
    "r2 = Radiobutton(frame_bottom, text = \"Lisance\", variable = var, value = 2, bg = \"#c2c2d6\", font = \"Helvetica 11 \")\n",
    "r2.place(relx=0.65, rely=0.018 )\n",
    "\n",
    "Label(frame_bottom, bg=\"#c2c2d6\", text=\"Branch  :\", font=\"Helvetica 11 \").place(relx=0.45, rely=0.085)\n",
    "textbox4 = Text(frame_bottom, width=40, height=1)\n",
    "textbox4.tag_configure('style', foreground='#f0f0f5', font=('Helvetica', 11))\n",
    "textbox4.place(relx=0.5, rely=0.086)\n",
    "\n",
    "\n",
    "\n",
    "home.mainloop()"
   ]
  },
  {
   "cell_type": "code",
   "execution_count": null,
   "metadata": {},
   "outputs": [],
   "source": []
  }
 ],
 "metadata": {
  "kernelspec": {
   "display_name": "Python 3",
   "language": "python",
   "name": "python3"
  },
  "language_info": {
   "codemirror_mode": {
    "name": "ipython",
    "version": 3
   },
   "file_extension": ".py",
   "mimetype": "text/x-python",
   "name": "python",
   "nbconvert_exporter": "python",
   "pygments_lexer": "ipython3",
   "version": "3.10.4"
  },
  "orig_nbformat": 4
 },
 "nbformat": 4,
 "nbformat_minor": 2
}
