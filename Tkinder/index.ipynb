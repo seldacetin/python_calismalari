{
 "cells": [
  {
   "cell_type": "code",
   "execution_count": 130,
   "metadata": {},
   "outputs": [],
   "source": [
    "import tkinter as tk\n",
    "from tkinter import *"
   ]
  },
  {
   "cell_type": "code",
   "execution_count": 143,
   "metadata": {},
   "outputs": [],
   "source": [
    "home = Tk()\n",
    "\n",
    "canvas = Canvas(home, height=800, width=1500)\n",
    "canvas.pack()\n",
    "\n",
    "frame_top = Frame(home, bg=\"#c2c2d6\")\n",
    "frame_top.place(relx=0.02, rely=0.03, relwidth=0.96, relheight=0.08)\n",
    "\n",
    "frame_bottom = Frame(home, bg=\"#c2c2d6\")\n",
    "frame_bottom.place(relx=0.02, rely=0.12, relwidth=0.96, relheight=0.85)\n",
    "\n",
    "title = Label(frame_top, bg=\"#c2c2d6\", text = \"Exam Application Form\", font=\"Verdana 20 italic\")\n",
    "title.pack(pady=20)\n",
    "\n",
    "Label(frame_bottom, bg=\"#c2c2d6\", text=\"First Name\", font=\"Vedana 10 bold\").pack(padx=1, pady=1, anchor=NW)\n",
    "textbox1 = Text(frame_bottom, width=20, height=1)\n",
    "textbox1.tag_configure('style', foreground='#f0f0f5', font=('Verdana', 10, 'bold'))\n",
    "textbox1.pack(side= LEFT)\n",
    "\n",
    "home.mainloop()"
   ]
  },
  {
   "cell_type": "code",
   "execution_count": null,
   "metadata": {},
   "outputs": [],
   "source": []
  }
 ],
 "metadata": {
  "kernelspec": {
   "display_name": "Python 3",
   "language": "python",
   "name": "python3"
  },
  "language_info": {
   "codemirror_mode": {
    "name": "ipython",
    "version": 3
   },
   "file_extension": ".py",
   "mimetype": "text/x-python",
   "name": "python",
   "nbconvert_exporter": "python",
   "pygments_lexer": "ipython3",
   "version": "3.10.4"
  },
  "orig_nbformat": 4
 },
 "nbformat": 4,
 "nbformat_minor": 2
}
