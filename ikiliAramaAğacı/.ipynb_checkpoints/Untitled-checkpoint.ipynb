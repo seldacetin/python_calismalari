{
 "cells": [
  {
   "cell_type": "code",
   "execution_count": 20,
   "id": "47d22fa1",
   "metadata": {},
   "outputs": [
    {
     "name": "stdout",
     "output_type": "stream",
     "text": [
      "\n",
      "İnorder geçişi\n",
      "10 20 40 45 50 55 70 75 80 85 90 95 "
     ]
    }
   ],
   "source": [
    "class Node:\n",
    "    def __init__(self, key):\n",
    "        self.left = None\n",
    "        self.right = None\n",
    "        self.val = key\n",
    "        \n",
    "def insert(root, key):\n",
    "    if root is None:\n",
    "        return Node(key)\n",
    "    else:\n",
    "        if root.val == key:\n",
    "            return root\n",
    "        elif root.val < key:\n",
    "            root.right = insert(root.right, key)\n",
    "        else:\n",
    "            root.left = insert(root.left,key)\n",
    "    return root\n",
    "\n",
    "def inorder(root):\n",
    "    if root:\n",
    "        inorder(root.left)\n",
    "        print(root.val, end = \" \")\n",
    "        inorder(root.right)\n",
    "        \n",
    "if __name__ == '__main__':\n",
    "    r = Node(70)\n",
    "    r = insert(r,50)\n",
    "    r = insert(r,40)\n",
    "    r = insert(r,90)\n",
    "    r = insert(r,45)\n",
    "    r = insert(r,75)\n",
    "    r = insert(r,10)\n",
    "    r = insert(r,95)\n",
    "    r = insert(r,85)\n",
    "    r = insert(r,55)\n",
    "    r = insert(r,20)\n",
    "    r = insert(r,80)\n",
    "    \n",
    "    print('\\nİnorder geçişi')\n",
    "    inorder(r)"
   ]
  },
  {
   "cell_type": "code",
   "execution_count": 41,
   "id": "d8e32339",
   "metadata": {},
   "outputs": [
    {
     "name": "stdout",
     "output_type": "stream",
     "text": [
      "\n",
      "Preorder geçişi\n",
      "100 20 10 30 200 150 300 "
     ]
    }
   ],
   "source": [
    "class Node:\n",
    "    def __init__(self, v):\n",
    "        self.data = v\n",
    "        self.left = None\n",
    "        self.right = None\n",
    "        \n",
    "        \n",
    "def preorder(node):\n",
    "    if node is None:\n",
    "        return\n",
    "    print(node.data, end = \" \")\n",
    "    preorder(node.left)\n",
    "    preorder(node.right)\n",
    "    \n",
    "if __name__ == '__main__':\n",
    "    root = Node(100)\n",
    "    root.left = Node(20)\n",
    "    root.right = Node(200)\n",
    "    root.left.left = Node(10)\n",
    "    root.left.right = Node(30)\n",
    "    root.right.left = Node(150)\n",
    "    root.right.right = Node(300)\n",
    " \n",
    "    print(\"\\nPreorder geçişi\")\n",
    "    preorder(root)"
   ]
  },
  {
   "cell_type": "code",
   "execution_count": null,
   "id": "1e1ceaec",
   "metadata": {},
   "outputs": [],
   "source": []
  }
 ],
 "metadata": {
  "kernelspec": {
   "display_name": "Python 3 (ipykernel)",
   "language": "python",
   "name": "python3"
  },
  "language_info": {
   "codemirror_mode": {
    "name": "ipython",
    "version": 3
   },
   "file_extension": ".py",
   "mimetype": "text/x-python",
   "name": "python",
   "nbconvert_exporter": "python",
   "pygments_lexer": "ipython3",
   "version": "3.9.7"
  }
 },
 "nbformat": 4,
 "nbformat_minor": 5
}
